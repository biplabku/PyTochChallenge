{
 "cells": [
  {
   "cell_type": "markdown",
   "metadata": {},
   "source": [
    "### Transfer Learning\n",
    "Here you will learn how to use pre-trained networks to solved challenging problems.  Here you will use networks trained on a imagenet available from torchvision.\n",
    "\n",
    "ImageNet is a massive dataset with over 1 million labelled images in 1000 categories.  Its used to train deep neural networks using an architecture called convulational layers. \n",
    "\n",
    "Once trained, these models work astonishingly well as feature detectors for images they werent trained on. \n",
    "\n",
    "Using a pre-trained network on images not in the training set is called transfer learning.  Here we'll use transfer learning to train a network learning to train a network that can classify our cat and dog photos with near perfect accuracy. "
   ]
  },
  {
   "cell_type": "code",
   "execution_count": null,
   "metadata": {},
   "outputs": [],
   "source": [
    "%matplotlib inline\n",
    "%config InlineBackend.figure_format = 'retina'\n",
    "\n",
    "import matplotlib.pyplot as plt\n",
    "import torch\n",
    "from torch import nn, optim\n",
    "import torch.nn.functional as F\n",
    "import torchvision.models as models\n"
   ]
  }
 ],
 "metadata": {
  "kernelspec": {
   "display_name": "Python 3",
   "language": "python",
   "name": "python3"
  },
  "language_info": {
   "codemirror_mode": {
    "name": "ipython",
    "version": 3
   },
   "file_extension": ".py",
   "mimetype": "text/x-python",
   "name": "python",
   "nbconvert_exporter": "python",
   "pygments_lexer": "ipython3",
   "version": "3.7.0"
  }
 },
 "nbformat": 4,
 "nbformat_minor": 2
}

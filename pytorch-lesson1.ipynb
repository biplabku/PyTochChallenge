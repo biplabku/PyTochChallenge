{
 "cells": [
  {
   "cell_type": "markdown",
   "metadata": {},
   "source": [
    "## Pytorch theory and Implementation\n",
    "\n",
    "A Vector is a one dimensional tensor, similary a matrix is a 2-dimensional tensor and 3 dimensional array is another example of tensor.\n",
    "\n",
    "A tensor is a fundamental data structure for neural networks. \n"
   ]
  },
  {
   "cell_type": "code",
   "execution_count": 4,
   "metadata": {},
   "outputs": [
    {
     "name": "stdout",
     "output_type": "stream",
     "text": [
      "success\n"
     ]
    }
   ],
   "source": [
    "import torch\n",
    "print(\"success\")"
   ]
  },
  {
   "cell_type": "code",
   "execution_count": 5,
   "metadata": {},
   "outputs": [
    {
     "name": "stdout",
     "output_type": "stream",
     "text": [
      "success\n"
     ]
    }
   ],
   "source": [
    "def activation(x):\n",
    "    return 1/(1 + torch.exp(-x))\n",
    "print(\"success\")"
   ]
  },
  {
   "cell_type": "code",
   "execution_count": 6,
   "metadata": {},
   "outputs": [
    {
     "name": "stdout",
     "output_type": "stream",
     "text": [
      "tensor([[-0.1468,  0.7861,  0.9468, -1.1143,  1.6908]])\n",
      "tensor([[-0.8948, -0.3556,  1.2324,  0.1382, -1.6822]])\n",
      "tensor([[0.3177]])\n",
      "success\n"
     ]
    }
   ],
   "source": [
    "torch.manual_seed(7)\n",
    "\n",
    "features = torch.randn((1, 5))\n",
    "# features generation using torch.randn function of size (1, 5). 1 row 5 columns. It gets value from a normal distribution with a mean 0 and standard deviation of 1\n",
    "\n",
    "weights = torch.randn_like(features)\n",
    "# Generate random weights based on features describes above. The dimensions are based on the feature dimensions. these are values from a normal distribution\n",
    "\n",
    "bias = torch.randn((1,1))\n",
    "# bias of dimension of 1,1, it creates a single value from normal distribution\n",
    "\n",
    "print(features)\n",
    "print(weights)\n",
    "print(bias)\n",
    "print(\"success\")"
   ]
  },
  {
   "cell_type": "code",
   "execution_count": 7,
   "metadata": {},
   "outputs": [
    {
     "name": "stdout",
     "output_type": "stream",
     "text": [
      "tensor([[-1.9796]])\n",
      "success\n"
     ]
    }
   ],
   "source": [
    "# implement output part of the solution. Which means multiplying the features and weights and outputing it through a signmoid function\n",
    "import numpy as np\n",
    "\n",
    "#output = np.sum(np.dot(features, weights), bias)\n",
    "# number of columns in A is equal to number of columns in B - Matrix multiplication rules.\n",
    "output = torch.mm(features, weights.reshape(5, 1)) \n",
    "# reshape maintains the same data but reshapes the tensor\n",
    "# resize retains the new shape even if it involves missing some data points or removing fewa\n",
    "# this is one way of implementing the matrix multiplication\n",
    "print(output)\n",
    "\n",
    "print(\"success\")"
   ]
  },
  {
   "cell_type": "code",
   "execution_count": null,
   "metadata": {},
   "outputs": [],
   "source": [
    "## Stacking the layers"
   ]
  },
  {
   "cell_type": "code",
   "execution_count": 11,
   "metadata": {},
   "outputs": [
    {
     "name": "stdout",
     "output_type": "stream",
     "text": [
      "3\n",
      "3\n",
      "success\n"
     ]
    }
   ],
   "source": [
    "# generating some data\n",
    "torch.manual_seed(7)\n",
    "\n",
    "# features are 3 random normal variables\n",
    "features = torch.randn((1,3))\n",
    "\n",
    "# define the size of each input layer in our network\n",
    "n_input = features.shape[1] # Number of input units, must match number of input features\n",
    "n_hidden = 2 # Number of hidden units\n",
    "n_output = 1 # Number of output units\n",
    "W1 = torch.randn(n_input, n_hidden)\n",
    "\n",
    "W2 = torch.randn(n_hidden, n_output)\n",
    "\n",
    "B1 = torch.randn((1, n_hidden))\n",
    "B2 = torch.randn((1, n_output))\n",
    "\n",
    "print(\"success\")"
   ]
  },
  {
   "cell_type": "code",
   "execution_count": null,
   "metadata": {},
   "outputs": [],
   "source": [
    "## Calculate the multiplayer output from the above layers using W1, W2, B1 and B2"
   ]
  },
  {
   "cell_type": "code",
   "execution_count": 24,
   "metadata": {},
   "outputs": [
    {
     "name": "stdout",
     "output_type": "stream",
     "text": [
      "tensor([[0.3171]])\n",
      "success\n"
     ]
    }
   ],
   "source": [
    "layer1_output = torch.mm(features, W1.reshape(n_input, n_hidden)) + B1\n",
    "\n",
    "output1 = activation(layer1_output)\n",
    "\n",
    "# feeding the first layer output to the second hidden layer's input\n",
    "layer2_output = torch.mm(output1, W2.reshape(n_hidden, n_output)) + B2\n",
    "\n",
    "output = activation(layer2_output)\n",
    "print(output)\n",
    "# last layer gives out only one output\n",
    "print(\"success\")\n"
   ]
  },
  {
   "cell_type": "code",
   "execution_count": null,
   "metadata": {},
   "outputs": [],
   "source": [
    "## What is a hyper parameter\n",
    "# the number of hidden units a parameter of the network is often termed as \n",
    "# hyperparameter to differentiate it from the weights and biases parameters\n",
    "# As you'll see later when we discuss training a neural network, the more hidden units a network has, and the more layers, the better able it is to \n",
    "# learn from data and make accurate predictions."
   ]
  },
  {
   "cell_type": "code",
   "execution_count": 35,
   "metadata": {},
   "outputs": [
    {
     "data": {
      "text/plain": [
       "array([[0.24476289, 0.62184084, 0.98877485],\n",
       "       [0.32037245, 0.19396267, 0.25185094],\n",
       "       [0.91300291, 0.64046008, 0.5775999 ],\n",
       "       [0.88243743, 0.20791158, 0.43526878]])"
      ]
     },
     "execution_count": 35,
     "metadata": {},
     "output_type": "execute_result"
    }
   ],
   "source": [
    "## Numpy to Torch and back\n",
    "import numpy as np\n",
    "\n",
    "a = np.random.rand(4,3)\n",
    "a"
   ]
  },
  {
   "cell_type": "code",
   "execution_count": 36,
   "metadata": {},
   "outputs": [
    {
     "data": {
      "text/plain": [
       "tensor([[0.2448, 0.6218, 0.9888],\n",
       "        [0.3204, 0.1940, 0.2519],\n",
       "        [0.9130, 0.6405, 0.5776],\n",
       "        [0.8824, 0.2079, 0.4353]], dtype=torch.float64)"
      ]
     },
     "execution_count": 36,
     "metadata": {},
     "output_type": "execute_result"
    }
   ],
   "source": [
    "b = torch.from_numpy(a)\n",
    "b"
   ]
  },
  {
   "cell_type": "code",
   "execution_count": 37,
   "metadata": {},
   "outputs": [
    {
     "data": {
      "text/plain": [
       "array([[0.24476289, 0.62184084, 0.98877485],\n",
       "       [0.32037245, 0.19396267, 0.25185094],\n",
       "       [0.91300291, 0.64046008, 0.5775999 ],\n",
       "       [0.88243743, 0.20791158, 0.43526878]])"
      ]
     },
     "execution_count": 37,
     "metadata": {},
     "output_type": "execute_result"
    }
   ],
   "source": [
    "b.numpy()"
   ]
  },
  {
   "cell_type": "code",
   "execution_count": 38,
   "metadata": {},
   "outputs": [
    {
     "data": {
      "text/plain": [
       "tensor([[0.4895, 1.2437, 1.9775],\n",
       "        [0.6407, 0.3879, 0.5037],\n",
       "        [1.8260, 1.2809, 1.1552],\n",
       "        [1.7649, 0.4158, 0.8705]], dtype=torch.float64)"
      ]
     },
     "execution_count": 38,
     "metadata": {},
     "output_type": "execute_result"
    }
   ],
   "source": [
    "b.mul_(2)"
   ]
  },
  {
   "cell_type": "code",
   "execution_count": 39,
   "metadata": {},
   "outputs": [
    {
     "data": {
      "text/plain": [
       "array([[0.48952579, 1.24368168, 1.97754971],\n",
       "       [0.6407449 , 0.38792533, 0.50370188],\n",
       "       [1.82600581, 1.28092015, 1.1551998 ],\n",
       "       [1.76487486, 0.41582316, 0.87053756]])"
      ]
     },
     "execution_count": 39,
     "metadata": {},
     "output_type": "execute_result"
    }
   ],
   "source": [
    "a"
   ]
  }
 ],
 "metadata": {
  "kernelspec": {
   "display_name": "Python 3",
   "language": "python",
   "name": "python3"
  },
  "language_info": {
   "codemirror_mode": {
    "name": "ipython",
    "version": 3
   },
   "file_extension": ".py",
   "mimetype": "text/x-python",
   "name": "python",
   "nbconvert_exporter": "python",
   "pygments_lexer": "ipython3",
   "version": "3.7.0"
  }
 },
 "nbformat": 4,
 "nbformat_minor": 2
}

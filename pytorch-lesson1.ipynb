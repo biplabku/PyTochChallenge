{
 "cells": [
  {
   "cell_type": "markdown",
   "metadata": {},
   "source": [
    "## Pytorch theory and Implementation\n",
    "\n",
    "A Vector is a one dimensional tensor, similary a matrix is a 2-dimensional tensor and 3 dimensional array is another example of tensor.\n",
    "\n",
    "A tensor is a fundamental data structure for neural networks. \n"
   ]
  },
  {
   "cell_type": "code",
   "execution_count": 3,
   "metadata": {},
   "outputs": [],
   "source": [
    "import torch"
   ]
  },
  {
   "cell_type": "code",
   "execution_count": 4,
   "metadata": {},
   "outputs": [],
   "source": [
    "def activation(x):\n",
    "    return 1/(1 + torch.exp(-x))"
   ]
  },
  {
   "cell_type": "code",
   "execution_count": 10,
   "metadata": {},
   "outputs": [
    {
     "name": "stdout",
     "output_type": "stream",
     "text": [
      "tensor([[-0.1468,  0.7861,  0.9468, -1.1143,  1.6908]])\n",
      "tensor([[-0.8948, -0.3556,  1.2324,  0.1382, -1.6822]])\n",
      "tensor([[0.3177]])\n"
     ]
    }
   ],
   "source": [
    "torch.manual_seed(7)\n",
    "\n",
    "features = torch.randn((1, 5))\n",
    "# features generation using torch.randn function of size (1, 5). 1 row 5 columns. It gets value from a normal distribution with a mean 0 and standard deviation of 1\n",
    "\n",
    "weights = torch.randn_like(features)\n",
    "# Generate random weights based on features describes above. The dimensions are based on the feature dimensions. these are values from a normal distribution\n",
    "\n",
    "bias = torch.randn((1,1))\n",
    "# bias of dimension of 1,1, it creates a single value from normal distribution\n",
    "\n",
    "print(features)\n",
    "print(weights)\n",
    "print(bias)"
   ]
  },
  {
   "cell_type": "code",
   "execution_count": 13,
   "metadata": {},
   "outputs": [
    {
     "name": "stdout",
     "output_type": "stream",
     "text": [
      "tensor([[-1.9796]])\n"
     ]
    }
   ],
   "source": [
    "# implement output part of the solution. Which means multiplying the features and weights and outputing it through a signmoid function\n",
    "import numpy as np\n",
    "\n",
    "#output = np.sum(np.dot(features, weights), bias)\n",
    "# number of columns in A is equal to number of columns in B - Matrix multiplication rules.\n",
    "output = torch.mm(features, weights.reshape(5, 1))\n",
    "# this is one way of implementing the matrix multiplication\n",
    "print(output)\n",
    "\n"
   ]
  }
 ],
 "metadata": {
  "kernelspec": {
   "display_name": "Python 3",
   "language": "python",
   "name": "python3"
  },
  "language_info": {
   "codemirror_mode": {
    "name": "ipython",
    "version": 3
   },
   "file_extension": ".py",
   "mimetype": "text/x-python",
   "name": "python",
   "nbconvert_exporter": "python",
   "pygments_lexer": "ipython3",
   "version": "3.7.0"
  }
 },
 "nbformat": 4,
 "nbformat_minor": 2
}

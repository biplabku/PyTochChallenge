{
 "cells": [
  {
   "cell_type": "markdown",
   "metadata": {},
   "source": [
    "### Neural Networks with PyTorch\n",
    "Deep learning networks has more number of hidden layers and hence the term \"deep\" learning. You can build one of these deep neural networks using only weights matrices. \n",
    "Pytorch has a very nice module nn that gives a nice way to efficiently build large neural networks"
   ]
  },
  {
   "cell_type": "code",
   "execution_count": 119,
   "metadata": {},
   "outputs": [],
   "source": [
    "## import all necessary packages\n",
    "import torch\n",
    "import numpy as np\n",
    "import helper\n",
    "import matplotlib.pyplot as plt\n",
    "\n",
    "## helper functionality\n",
    "from torch import nn, optim\n",
    "from torch.autograd import Variable\n",
    "\n",
    "\n",
    "def test_network(net, trainloader):\n",
    "\n",
    "    criterion = nn.MSELoss()\n",
    "    optimizer = optim.Adam(net.parameters(), lr=0.001)\n",
    "\n",
    "    dataiter = iter(trainloader)\n",
    "    images, labels = dataiter.next()\n",
    "\n",
    "    # Create Variables for the inputs and targets\n",
    "    inputs = Variable(images)\n",
    "    targets = Variable(images)\n",
    "\n",
    "    # Clear the gradients from all Variables\n",
    "    optimizer.zero_grad()\n",
    "\n",
    "    # Forward pass, then backward pass, then update weights\n",
    "    output = net.forward(inputs)\n",
    "    loss = criterion(output, targets)\n",
    "    loss.backward()\n",
    "    optimizer.step()\n",
    "\n",
    "    return True\n",
    "\n",
    "\n",
    "def imshow(image, ax=None, title=None, normalize=True):\n",
    "    \"\"\"Imshow for Tensor.\"\"\"\n",
    "    if ax is None:\n",
    "        fig, ax = plt.subplots()\n",
    "    image = image.numpy().transpose((1, 2, 0))\n",
    "\n",
    "    if normalize:\n",
    "        mean = np.array([0.485, 0.456, 0.406])\n",
    "        std = np.array([0.229, 0.224, 0.225])\n",
    "        image = std * image + mean\n",
    "        image = np.clip(image, 0, 1)\n",
    "\n",
    "    ax.imshow(image)\n",
    "    ax.spines['top'].set_visible(False)\n",
    "    ax.spines['right'].set_visible(False)\n",
    "    ax.spines['left'].set_visible(False)\n",
    "    ax.spines['bottom'].set_visible(False)\n",
    "    ax.tick_params(axis='both', length=0)\n",
    "    ax.set_xticklabels('')\n",
    "    ax.set_yticklabels('')\n",
    "\n",
    "    return ax\n",
    "\n",
    "\n",
    "def view_recon(img, recon):\n",
    "    ''' Function for displaying an image (as a PyTorch Tensor) and its\n",
    "        reconstruction also a PyTorch Tensor\n",
    "    '''\n",
    "\n",
    "    fig, axes = plt.subplots(ncols=2, sharex=True, sharey=True)\n",
    "    axes[0].imshow(img.numpy().squeeze())\n",
    "    axes[1].imshow(recon.data.numpy().squeeze())\n",
    "    for ax in axes:\n",
    "        ax.axis('off')\n",
    "        ax.set_adjustable('box-forced')\n",
    "\n",
    "def view_classify(img, ps, version=\"MNIST\"):\n",
    "    ''' Function for viewing an image and it's predicted classes.\n",
    "    '''\n",
    "    ps = ps.data.numpy().squeeze()\n",
    "\n",
    "    fig, (ax1, ax2) = plt.subplots(figsize=(6,9), ncols=2)\n",
    "    ax1.imshow(img.resize_(1, 28, 28).numpy().squeeze())\n",
    "    ax1.axis('off')\n",
    "    ax2.barh(np.arange(10), ps)\n",
    "    ax2.set_aspect(0.1)\n",
    "    ax2.set_yticks(np.arange(10))\n",
    "    if version == \"MNIST\":\n",
    "        ax2.set_yticklabels(np.arange(10))\n",
    "    elif version == \"Fashion\":\n",
    "        ax2.set_yticklabels(['T-shirt/top',\n",
    "                            'Trouser',\n",
    "                            'Pullover',\n",
    "                            'Dress',\n",
    "                            'Coat',\n",
    "                            'Sandal',\n",
    "                            'Shirt',\n",
    "                            'Sneaker',\n",
    "                            'Bag',\n",
    "                            'Ankle Boot'], size='small');\n",
    "    ax2.set_title('Class Probability')\n",
    "    ax2.set_xlim(0, 1.1)\n",
    "\n",
    "    plt.tight_layout()\n",
    "\n"
   ]
  },
  {
   "cell_type": "code",
   "execution_count": 104,
   "metadata": {},
   "outputs": [],
   "source": [
    "# In this chapter We are going to build a fully connected network larged than the one we did\n",
    "# Identifying text in an image, in this one we will identify the letters in an image(grayscale) which consists of handwritten \n",
    "# digits. Each image is 28 x 28 pixels"
   ]
  },
  {
   "cell_type": "markdown",
   "metadata": {},
   "source": [
    "### Goal - Identify the digits in the image using a neural network. "
   ]
  },
  {
   "cell_type": "markdown",
   "metadata": {},
   "source": [
    "First we need the data set to work with. In this case we are going to use MNIST dataset through torchvision package. "
   ]
  },
  {
   "cell_type": "code",
   "execution_count": 105,
   "metadata": {},
   "outputs": [
    {
     "name": "stdout",
     "output_type": "stream",
     "text": [
      "Success\n"
     ]
    }
   ],
   "source": [
    "### run this cell\n",
    "\n",
    "from torchvision import datasets, transforms\n",
    "\n",
    "# Define a transfrom to normalize the data\n",
    "transform = transforms.Compose([transforms.ToTensor(), \n",
    "                               transforms.Normalize((0.5,), (0.5,)),\n",
    "                               ])\n",
    "trainset = datasets.MNIST('~/.PyTorchChallenge/MNIST_data/', train=True, transform=transform, download=True)\n",
    "\n",
    "trainloader = torch.utils.data.DataLoader(trainset, batch_size=64, shuffle=True)\n",
    "\n",
    "print(\"Success\")"
   ]
  },
  {
   "cell_type": "markdown",
   "metadata": {},
   "source": [
    "Trainset is responsible for downloading the data set from the internet with the above transform which means datas are normalize with mean of 0.5 and standard deviation of 0.5\n",
    "\n",
    "Trainloader loads the images from the dataset with a batch size of 64 and shuffled. Batch size is the number of images we get in one iteration from the dataloader and pass through our network. when shuffle is set to true - Means the the batch shuffle with each iterations. "
   ]
  },
  {
   "cell_type": "code",
   "execution_count": 106,
   "metadata": {},
   "outputs": [
    {
     "name": "stdout",
     "output_type": "stream",
     "text": [
      "<class 'torch.Tensor'>\n",
      "torch.Size([64, 1, 28, 28])\n",
      "torch.Size([64])\n"
     ]
    }
   ],
   "source": [
    "dataiter = iter(trainloader)\n",
    "images, labels = dataiter.next()\n",
    "print(type(images))\n",
    "print(images.shape)\n",
    "print(labels.shape)"
   ]
  },
  {
   "cell_type": "markdown",
   "metadata": {},
   "source": [
    "Display one of the images"
   ]
  },
  {
   "cell_type": "code",
   "execution_count": 107,
   "metadata": {},
   "outputs": [
    {
     "data": {
      "text/plain": [
       "<matplotlib.image.AxesImage at 0x12088c0b8>"
      ]
     },
     "execution_count": 107,
     "metadata": {},
     "output_type": "execute_result"
    },
    {
     "data": {
      "image/png": "[encoded data removed]",
      "text/plain": [
       "<Figure size 432x288 with 1 Axes>"
      ]
     },
     "metadata": {
      "needs_background": "light"
     },
     "output_type": "display_data"
    }
   ],
   "source": [
    "plt.imshow(images[1].numpy().squeeze(), cmap='Greys_r')"
   ]
  },
  {
   "cell_type": "markdown",
   "metadata": {},
   "source": [
    "Example - Lets try to build a simple network for this dataset using weight matrices and matrix multiplications.\n",
    "1. Input to each layer must be one dimensional vector that can be stacked into a 2D tensor as a batch of multiple examples.\n",
    "2. Images are 28 x 28 2D tensors, so we need to convert them into 1D vectors i.e flatten them.\n",
    "3. Convert the batches of images with shape(64, 1, 28, 28) to have a shape of(64, 784) 784 means  28 times 28 which is the image size basically flattening them into 1D vectors\n",
    "4. Here we need 10 output units meaning one for each digit.  We want our network to predict the digit shown in an image. \n",
    "5. We will calculate probabilities that the image is any one digit or calss. \n",
    "6. This ends up being a discrete probability distribution over the classes or digits that tells us the most likely class for the image. \n",
    "7. In summary we need 10 output units for the 10 classes.\n"
   ]
  },
  {
   "cell_type": "code",
   "execution_count": 108,
   "metadata": {},
   "outputs": [
    {
     "name": "stdout",
     "output_type": "stream",
     "text": [
      "success\n"
     ]
    }
   ],
   "source": [
    "## solution to finding the output\n",
    "# first i have to get the images\n",
    "# images are flattened with the below command\n",
    "def activation(x):\n",
    "    return 1/(1 + torch.exp(-x))\n",
    "\n",
    "## 2 methods to do that\n",
    "#inputs = images.reshape(images.shape[0] * images.shape[1], images.shape[2] * images.shape[3])\n",
    "\n",
    "inputs = images.view(images.shape[0], -1)\n",
    "\n",
    "w1 = torch.randn(784, 256)\n",
    "w2 = torch.randn(256, 10)\n",
    "\n",
    "b1 = torch.randn(256)\n",
    "b2 = torch.randn(10)\n",
    "\n",
    "hidden = activation(torch.mm(inputs, w1) + b1)\n",
    "output = activation(torch.mm(output1, w2) + b2)\n",
    "\n",
    "print(\"success\")"
   ]
  },
  {
   "cell_type": "markdown",
   "metadata": {},
   "source": [
    "### Now we have to define the probabilities \n",
    "We have 10 outputs for our network. We will pass in an image into the network and get out a probability distribution over the classes that tells us the likely classes the images belong to."
   ]
  },
  {
   "cell_type": "code",
   "execution_count": 109,
   "metadata": {
    "scrolled": true
   },
   "outputs": [
    {
     "name": "stdout",
     "output_type": "stream",
     "text": [
      "torch.Size([64, 10])\n",
      "tensor([1.0000, 1.0000, 1.0000, 1.0000, 1.0000, 1.0000, 1.0000, 1.0000, 1.0000,\n",
      "        1.0000, 1.0000, 1.0000, 1.0000, 1.0000, 1.0000, 1.0000, 1.0000, 1.0000,\n",
      "        1.0000, 1.0000, 1.0000, 1.0000, 1.0000, 1.0000, 1.0000, 1.0000, 1.0000,\n",
      "        1.0000, 1.0000, 1.0000, 1.0000, 1.0000, 1.0000, 1.0000, 1.0000, 1.0000,\n",
      "        1.0000, 1.0000, 1.0000, 1.0000, 1.0000, 1.0000, 1.0000, 1.0000, 1.0000,\n",
      "        1.0000, 1.0000, 1.0000, 1.0000, 1.0000, 1.0000, 1.0000, 1.0000, 1.0000,\n",
      "        1.0000, 1.0000, 1.0000, 1.0000, 1.0000, 1.0000, 1.0000, 1.0000, 1.0000,\n",
      "        1.0000])\n"
     ]
    }
   ],
   "source": [
    "# define softmax distribution\n",
    "# note - about view -- (-1,1) ==> . column shapes is defined by 1 but -1 is automatically decided by the numerator term\n",
    "def softmax(x):\n",
    "    den_sum = torch.sum(torch.exp(x), dim=1).view(-1, 1)\n",
    "    \n",
    "    return torch.exp(x)/(den_sum)\n",
    "\n",
    "probabilities = softmax(output)\n",
    "print(probabilities.shape)\n",
    "print(probabilities.sum(dim=1))"
   ]
  },
  {
   "cell_type": "markdown",
   "metadata": {},
   "source": [
    "### Building networks with Pytorch"
   ]
  },
  {
   "cell_type": "markdown",
   "metadata": {},
   "source": [
    "Pytorch provides a module nn that makes building networks much simpler. "
   ]
  },
  {
   "cell_type": "code",
   "execution_count": 110,
   "metadata": {},
   "outputs": [],
   "source": [
    "from torch import nn"
   ]
  },
  {
   "cell_type": "code",
   "execution_count": 111,
   "metadata": {},
   "outputs": [
    {
     "name": "stdout",
     "output_type": "stream",
     "text": [
      "Success\n"
     ]
    }
   ],
   "source": [
    "class Network(nn.Module):\n",
    "    def __init__(self):\n",
    "        super().__init__()\n",
    "        \n",
    "        # Inputs to hidden layer linear transformation\n",
    "        self.hidden = nn.Linear(784, 256)\n",
    "        \n",
    "        # Output Layer, 10 units - One for each digit\n",
    "        self.output = nn.Linear(256, 10)\n",
    "        \n",
    "        # define sigmoid activation and softmax output\n",
    "        self.sigmoid = nn.Sigmoid()\n",
    "        self.softmax = nn.Softmax(dim = 1)\n",
    "    \n",
    "    def forward(self, x):\n",
    "        # Pass the input tensor throught each of our operations\n",
    "        x = self.hidden(x)\n",
    "        x = self.sigmoid(x)\n",
    "        x = self.output(x)\n",
    "        x = self.softmax(x)\n",
    "        \n",
    "        return x\n",
    "print(\"Success\")"
   ]
  },
  {
   "cell_type": "code",
   "execution_count": 112,
   "metadata": {},
   "outputs": [
    {
     "name": "stdout",
     "output_type": "stream",
     "text": [
      "Success\n"
     ]
    }
   ],
   "source": [
    "## Notes to the prior code implementation\n",
    "# class Network(nn.module):\n",
    "# Here we are inheriting from nn.module. Combined with super().__init__() this creates\n",
    "# a class that tracks the architecture and provides a lot of useful methods and attributes. \n",
    "# It is mandatory to inherit from nn.module when you are creating a class for your network\n",
    "\n",
    "# self.hidden = nn.Linear(784, 256)\n",
    "# It creates a module for a Linear transformation, xW + b with the mentioned params and assigns it to self.hidden\n",
    "# this method automatically creates the weights and bias tensors which we will use\n",
    "# in the forward method. \n",
    "# we can still access the Weights and Bias tensors once the network is created with net.hidden.weight and net.hidden.bias\n",
    "# similarly\n",
    "# self.output = nn.Linear(256, 10)\n",
    "\n",
    "# setting dim =1 in nn.Softmax(dim = 1) calculates softmax across columns\n",
    "print(\"Success\")"
   ]
  },
  {
   "cell_type": "markdown",
   "metadata": {},
   "source": [
    "### Pytorch networks created with nn.module must have a forward method defined. It takes in a tensor x and passes it through the operations defined in the init method"
   ]
  },
  {
   "cell_type": "code",
   "execution_count": 113,
   "metadata": {},
   "outputs": [
    {
     "data": {
      "text/plain": [
       "Network(\n",
       "  (hidden): Linear(in_features=784, out_features=256, bias=True)\n",
       "  (output): Linear(in_features=256, out_features=10, bias=True)\n",
       "  (sigmoid): Sigmoid()\n",
       "  (softmax): Softmax()\n",
       ")"
      ]
     },
     "execution_count": 113,
     "metadata": {},
     "output_type": "execute_result"
    }
   ],
   "source": [
    "# Create the network and look at its text representation\n",
    "model = Network()\n",
    "model"
   ]
  },
  {
   "cell_type": "markdown",
   "metadata": {},
   "source": [
    "We can define network more concisely and clearly using torch.nn.functional module. "
   ]
  },
  {
   "cell_type": "code",
   "execution_count": 114,
   "metadata": {},
   "outputs": [
    {
     "name": "stdout",
     "output_type": "stream",
     "text": [
      "success\n"
     ]
    }
   ],
   "source": [
    "import torch.nn.functional as F\n",
    "class Network(nn.Module):\n",
    "    def __init__(self):\n",
    "        super().__init__()\n",
    "        \n",
    "        self.hidden = nn.Linear(784, 256)\n",
    "        self.output = nn.Linear(256, 10)\n",
    "        \n",
    "    def forward(self,x):\n",
    "        # hidden layer with sigmoid function\n",
    "        x = F.sigmoid(self.hidden(x))\n",
    "        # output layer with softnax activation\n",
    "        x = F.softmax(self.output(x), dim = 1)\n",
    "        return x\n",
    "    \n",
    "print(\"success\")"
   ]
  },
  {
   "cell_type": "markdown",
   "metadata": {},
   "source": [
    "Its not necessarily needed to use softmax for activation function. The only requirement is that for a network to approximate a non linear function, the activation functions must be non limear. "
   ]
  },
  {
   "cell_type": "code",
   "execution_count": 115,
   "metadata": {},
   "outputs": [
    {
     "data": {
      "text/plain": [
       "Network(\n",
       "  (hidden1): Linear(in_features=784, out_features=128, bias=True)\n",
       "  (hidden2): Linear(in_features=128, out_features=64, bias=True)\n",
       "  (output): Linear(in_features=64, out_features=10, bias=True)\n",
       ")"
      ]
     },
     "execution_count": 115,
     "metadata": {},
     "output_type": "execute_result"
    }
   ],
   "source": [
    "# solution\n",
    "class Network(nn.Module):\n",
    "    def __init__(self):\n",
    "        super().__init__() ## for tracking these layers\n",
    "        self.hidden1 = nn.Linear(784, 128)\n",
    "        self.hidden2 = nn.Linear(128, 64)\n",
    "        self.output = nn.Linear(64, 10)\n",
    "    \n",
    "    def forward(self, x):\n",
    "        x = self.hidden1(x)\n",
    "        x = F.relu(x)\n",
    "        x = self.hidden2(x)\n",
    "        x = F.relu(x)\n",
    "        x = self.output(x)\n",
    "        x = F.softmax(x, dim = 1)\n",
    "        \n",
    "        return x\n",
    "model = Network()\n",
    "model"
   ]
  },
  {
   "cell_type": "code",
   "execution_count": 116,
   "metadata": {},
   "outputs": [
    {
     "name": "stdout",
     "output_type": "stream",
     "text": [
      "Parameter containing:\n",
      "tensor([[-0.0353,  0.0185, -0.0312,  ...,  0.0098, -0.0161,  0.0006],\n",
      "        [ 0.0024, -0.0043, -0.0156,  ..., -0.0161,  0.0069, -0.0098],\n",
      "        [ 0.0282,  0.0282, -0.0235,  ...,  0.0151, -0.0115,  0.0109],\n",
      "        ...,\n",
      "        [-0.0214,  0.0047, -0.0021,  ...,  0.0142,  0.0105, -0.0223],\n",
      "        [ 0.0057,  0.0070, -0.0301,  ..., -0.0231, -0.0189, -0.0099],\n",
      "        [-0.0347,  0.0259,  0.0088,  ...,  0.0304,  0.0288, -0.0231]],\n",
      "       requires_grad=True)\n",
      "Parameter containing:\n",
      "tensor([-6.5523e-03,  1.7662e-02,  2.1370e-02,  3.1335e-02, -2.1521e-02,\n",
      "        -5.4332e-03,  2.7082e-02, -1.1717e-02,  2.2495e-02, -2.6022e-02,\n",
      "         2.2068e-02, -1.0131e-02, -1.6754e-02, -1.1473e-02, -1.2044e-02,\n",
      "         3.1589e-02, -1.5446e-02,  6.8428e-03,  2.9614e-02, -2.3176e-02,\n",
      "        -8.0865e-04,  2.0901e-02,  1.8081e-02, -6.9467e-03,  3.4460e-02,\n",
      "         3.0847e-03,  8.1710e-03, -2.7394e-02, -3.2651e-02, -1.3705e-02,\n",
      "         3.2626e-02,  2.8949e-02, -3.4762e-02, -2.4655e-02, -1.7132e-02,\n",
      "        -3.0857e-02,  3.5186e-02,  3.1410e-02, -3.0470e-02,  1.2280e-02,\n",
      "         1.8382e-02,  3.1333e-02,  3.0851e-02, -1.3624e-02,  1.2200e-02,\n",
      "        -9.9070e-03,  2.2855e-02, -3.3137e-02, -3.2264e-03,  1.9172e-02,\n",
      "        -1.6682e-02,  1.7449e-02,  3.2299e-02,  2.4017e-02,  2.3911e-02,\n",
      "         2.3426e-02,  3.1923e-02,  1.5099e-04, -1.4034e-02, -3.8764e-03,\n",
      "         8.8950e-03,  1.7317e-02, -2.5083e-02, -1.1485e-02,  9.4328e-03,\n",
      "        -2.3307e-02, -3.4348e-02, -1.1727e-02,  2.1877e-02, -1.5627e-03,\n",
      "         3.0697e-02, -3.3014e-02,  1.2184e-02,  5.3360e-03, -3.2682e-03,\n",
      "        -2.5862e-02,  9.5431e-05,  1.9913e-02,  8.9154e-04,  2.6723e-03,\n",
      "        -3.1313e-03, -2.8099e-02, -2.0142e-02, -2.9484e-02, -6.0779e-03,\n",
      "        -2.2647e-02, -2.6681e-02,  1.9653e-02,  6.1831e-03,  1.3805e-02,\n",
      "         1.8952e-02,  3.6219e-03, -2.7480e-02, -1.8345e-02, -1.4019e-02,\n",
      "        -7.0083e-03, -3.2323e-02,  2.0127e-02, -1.0257e-02,  3.5125e-02,\n",
      "        -4.2573e-03, -1.0138e-02, -1.6895e-02,  2.8205e-02, -8.8098e-03,\n",
      "        -1.6746e-03, -2.3544e-02,  3.4304e-02, -1.6179e-03, -1.4570e-02,\n",
      "        -2.8452e-02, -1.9553e-03,  1.1050e-02, -1.3156e-03, -3.3560e-02,\n",
      "         3.1272e-02,  1.3073e-03, -1.7486e-02,  1.1161e-02,  7.9570e-04,\n",
      "        -1.5398e-02,  2.8130e-02,  2.7884e-02,  7.6121e-03, -1.7439e-02,\n",
      "         1.2957e-02, -2.4111e-02,  3.4120e-02], requires_grad=True)\n"
     ]
    }
   ],
   "source": [
    "# Weights and such are automatically initialized. \n",
    "# below are the ways through which we can access the values\n",
    "print(model.hidden1.weight)\n",
    "print(model.hidden1.bias)"
   ]
  },
  {
   "cell_type": "markdown",
   "metadata": {},
   "source": [
    "These are actually autograd Variables, so we need to get back the actual tensors with model.fc1.weight.data. Once we have the tensors, we can fill them with zeros (for biases) or random normal values."
   ]
  },
  {
   "cell_type": "code",
   "execution_count": 117,
   "metadata": {},
   "outputs": [
    {
     "data": {
      "text/plain": [
       "tensor([[-0.0035,  0.0031,  0.0014,  ...,  0.0109,  0.0117, -0.0106],\n",
       "        [ 0.0079, -0.0120, -0.0002,  ..., -0.0073, -0.0083, -0.0036],\n",
       "        [-0.0144,  0.0034,  0.0109,  ..., -0.0099, -0.0069, -0.0008],\n",
       "        ...,\n",
       "        [ 0.0018,  0.0104,  0.0060,  ...,  0.0054, -0.0102,  0.0048],\n",
       "        [-0.0157,  0.0043,  0.0086,  ..., -0.0247,  0.0001, -0.0066],\n",
       "        [-0.0141,  0.0099, -0.0054,  ..., -0.0094, -0.0023,  0.0121]])"
      ]
     },
     "execution_count": 117,
     "metadata": {},
     "output_type": "execute_result"
    }
   ],
   "source": [
    "model.hidden1.bias.data.fill_(0)\n",
    "model.hidden1.weight.data.normal_(std=0.01)"
   ]
  },
  {
   "cell_type": "code",
   "execution_count": 121,
   "metadata": {},
   "outputs": [
    {
     "data": {
      "image/png": "[encoded data removed]",
      "text/plain": [
       "<Figure size 432x648 with 2 Axes>"
      ]
     },
     "metadata": {
      "needs_background": "light"
     },
     "output_type": "display_data"
    }
   ],
   "source": [
    "# Now we are ready with the model so we can pass an image and see what happens\n",
    "detailer = iter(trainloader)\n",
    "images, labels = detailer.next()\n",
    "\n",
    "# resize the images into a 1D vector, new shape is (batch size, color channels, image pixels)\n",
    "images.resize_(64,1,784)\n",
    "\n",
    "# forward pass through the network\n",
    "img_idx = 0\n",
    "ps = model.forward(images[img_idx,:])\n",
    "img = images[img_idx]\n",
    "view_classify(img.view(1, 28, 28), ps)"
   ]
  },
  {
   "cell_type": "code",
   "execution_count": null,
   "metadata": {},
   "outputs": [],
   "source": [
    "# since we have not trained the network is not able to identify the digit"
   ]
  },
  {
   "cell_type": "markdown",
   "metadata": {},
   "source": [
    "### Using nn.Sequential"
   ]
  },
  {
   "cell_type": "markdown",
   "metadata": {},
   "source": [
    "Pytorch provides a convenient way to build networks like this where a tensor is passed sequentially through operations, nn.sequential"
   ]
  },
  {
   "cell_type": "code",
   "execution_count": 124,
   "metadata": {},
   "outputs": [
    {
     "name": "stdout",
     "output_type": "stream",
     "text": [
      "Sequential(\n",
      "  (0): Linear(in_features=784, out_features=128, bias=True)\n",
      "  (1): ReLU()\n",
      "  (2): Linear(in_features=128, out_features=64, bias=True)\n",
      "  (3): ReLU()\n",
      "  (4): Linear(in_features=64, out_features=10, bias=True)\n",
      "  (5): Softmax()\n",
      ")\n"
     ]
    },
    {
     "data": {
      "image/png": "[encoded data removed]",
      "text/plain": [
       "<Figure size 432x648 with 2 Axes>"
      ]
     },
     "metadata": {
      "needs_background": "light"
     },
     "output_type": "display_data"
    }
   ],
   "source": [
    "# Hyperparamters for our network\n",
    "input_size = 784\n",
    "hidden_sizes = [128, 64]\n",
    "output_size = 10\n",
    "\n",
    "# Build a feed-forward network\n",
    "model = nn.Sequential(nn.Linear(input_size, hidden_sizes[0]),\n",
    "                     nn.ReLU(),\n",
    "                     nn.Linear(hidden_sizes[0], hidden_sizes[1]),\n",
    "                     nn.ReLU(),\n",
    "                     nn.Linear(hidden_sizes[1], output_size),\n",
    "                     nn.Softmax(dim = 1)\n",
    "                     )\n",
    "print(model)\n",
    "\n",
    "# forward pass through the network and display output\n",
    "images, labels = next(iter(trainloader))\n",
    "images.resize_(images.shape[0], 1, 784)\n",
    "ps = model.forward(images[0,:])\n",
    "view_classify(images[0].view(1,28,28), ps)"
   ]
  },
  {
   "cell_type": "code",
   "execution_count": 125,
   "metadata": {},
   "outputs": [
    {
     "name": "stdout",
     "output_type": "stream",
     "text": [
      "Linear(in_features=784, out_features=128, bias=True)\n"
     ]
    },
    {
     "data": {
      "text/plain": [
       "Parameter containing:\n",
       "tensor([[-0.0228,  0.0278,  0.0207,  ...,  0.0124, -0.0304, -0.0174],\n",
       "        [ 0.0152, -0.0040, -0.0277,  ...,  0.0004,  0.0271, -0.0168],\n",
       "        [ 0.0327, -0.0173, -0.0305,  ..., -0.0351,  0.0076,  0.0164],\n",
       "        ...,\n",
       "        [-0.0301,  0.0317, -0.0240,  ...,  0.0067, -0.0160,  0.0151],\n",
       "        [-0.0339, -0.0131,  0.0235,  ...,  0.0134, -0.0330, -0.0027],\n",
       "        [ 0.0334, -0.0332,  0.0010,  ...,  0.0165,  0.0003,  0.0139]],\n",
       "       requires_grad=True)"
      ]
     },
     "execution_count": 125,
     "metadata": {},
     "output_type": "execute_result"
    }
   ],
   "source": [
    "print(model[0])\n",
    "model[0].weight"
   ]
  },
  {
   "cell_type": "markdown",
   "metadata": {},
   "source": [
    "You can also pass in an OrderedDict to name the individual layers and operations, instead of using incremental integers. Note that dictionary keys must be unique, so each operation must have a different name."
   ]
  },
  {
   "cell_type": "code",
   "execution_count": 127,
   "metadata": {},
   "outputs": [
    {
     "data": {
      "text/plain": [
       "Sequential(\n",
       "  (fc1): Linear(in_features=784, out_features=128, bias=True)\n",
       "  (relu1): ReLU()\n",
       "  (fc2): Linear(in_features=128, out_features=64, bias=True)\n",
       "  (relu2): ReLU()\n",
       "  (output): Linear(in_features=64, out_features=10, bias=True)\n",
       "  (softmax): Softmax()\n",
       ")"
      ]
     },
     "execution_count": 127,
     "metadata": {},
     "output_type": "execute_result"
    }
   ],
   "source": [
    "from collections import OrderedDict\n",
    "model = nn.Sequential(OrderedDict([\n",
    "                      ('fc1', nn.Linear(input_size, hidden_sizes[0])),\n",
    "                      ('relu1', nn.ReLU()),\n",
    "                      ('fc2', nn.Linear(hidden_sizes[0], hidden_sizes[1])),\n",
    "                      ('relu2', nn.ReLU()),\n",
    "                      ('output', nn.Linear(hidden_sizes[1], output_size)),\n",
    "                      ('softmax', nn.Softmax(dim=1))]))\n",
    "model"
   ]
  },
  {
   "cell_type": "code",
   "execution_count": 128,
   "metadata": {},
   "outputs": [
    {
     "name": "stdout",
     "output_type": "stream",
     "text": [
      "Linear(in_features=784, out_features=128, bias=True)\n",
      "Linear(in_features=784, out_features=128, bias=True)\n"
     ]
    }
   ],
   "source": [
    "print(model[0])\n",
    "print(model.fc1)\n"
   ]
  }
 ],
 "metadata": {
  "kernelspec": {
   "display_name": "Python 3",
   "language": "python",
   "name": "python3"
  },
  "language_info": {
   "codemirror_mode": {
    "name": "ipython",
    "version": 3
   },
   "file_extension": ".py",
   "mimetype": "text/x-python",
   "name": "python",
   "nbconvert_exporter": "python",
   "pygments_lexer": "ipython3",
   "version": "3.7.0"
  }
 },
 "nbformat": 4,
 "nbformat_minor": 2
}
